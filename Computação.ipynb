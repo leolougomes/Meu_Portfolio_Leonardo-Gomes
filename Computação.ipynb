{
 "cells": [
  {
   "cell_type": "code",
   "execution_count": 3,
   "metadata": {},
   "outputs": [],
   "source": [
    "import numpy as np\n",
    "import math as mt\n",
    "import pandas as pd"
   ]
  },
  {
   "cell_type": "markdown",
   "metadata": {},
   "source": [
    "# Básicos"
   ]
  },
  {
   "cell_type": "code",
   "execution_count": 2,
   "metadata": {},
   "outputs": [],
   "source": [
    "z=np.zeros(10)"
   ]
  },
  {
   "cell_type": "code",
   "execution_count": 3,
   "metadata": {},
   "outputs": [
    {
     "data": {
      "text/plain": [
       "array([0., 0., 0., 0., 0., 0., 0., 0., 0., 0.])"
      ]
     },
     "execution_count": 3,
     "metadata": {},
     "output_type": "execute_result"
    }
   ],
   "source": [
    "z"
   ]
  },
  {
   "cell_type": "code",
   "execution_count": 6,
   "metadata": {},
   "outputs": [
    {
     "data": {
      "text/plain": [
       "array([0., 0., 0., 0., 1., 0., 0., 0., 0., 0.])"
      ]
     },
     "execution_count": 6,
     "metadata": {},
     "output_type": "execute_result"
    }
   ],
   "source": [
    "z[4]=1\n",
    "z"
   ]
  },
  {
   "cell_type": "code",
   "execution_count": 27,
   "metadata": {},
   "outputs": [
    {
     "data": {
      "text/plain": [
       "array([0, 1, 2, 3, 4, 5, 6, 7, 8, 9])"
      ]
     },
     "execution_count": 27,
     "metadata": {},
     "output_type": "execute_result"
    }
   ],
   "source": [
    "a=np.arange(10)\n",
    "a"
   ]
  },
  {
   "cell_type": "code",
   "execution_count": 30,
   "metadata": {},
   "outputs": [
    {
     "data": {
      "text/plain": [
       "array([[1., 0., 0.],\n",
       "       [0., 1., 0.],\n",
       "       [0., 0., 1.]])"
      ]
     },
     "execution_count": 30,
     "metadata": {},
     "output_type": "execute_result"
    }
   ],
   "source": [
    "#matriz identidade função: np.eye(0,0)\n",
    "a=np.eye(3,3)\n",
    "a"
   ]
  },
  {
   "cell_type": "code",
   "execution_count": 35,
   "metadata": {},
   "outputs": [
    {
     "data": {
      "text/plain": [
       "array([[0, 1, 2],\n",
       "       [3, 4, 5],\n",
       "       [6, 7, 8]])"
      ]
     },
     "execution_count": 35,
     "metadata": {},
     "output_type": "execute_result"
    }
   ],
   "source": [
    "Z = np.arange(9).reshape(3,3)\n",
    "Z"
   ]
  },
  {
   "cell_type": "code",
   "execution_count": 38,
   "metadata": {},
   "outputs": [
    {
     "data": {
      "text/plain": [
       "array([[0.88002527, 0.09400023, 0.97082023],\n",
       "       [0.70190923, 0.27956909, 0.84443183],\n",
       "       [0.75815038, 0.44088829, 0.53727261]])"
      ]
     },
     "execution_count": 38,
     "metadata": {},
     "output_type": "execute_result"
    }
   ],
   "source": [
    "Z = np.random.random((3,3))\n",
    "Z"
   ]
  },
  {
   "cell_type": "code",
   "execution_count": 41,
   "metadata": {},
   "outputs": [
    {
     "data": {
      "text/plain": [
       "array([[[0.54385269, 0.48178236, 0.9410318 ],\n",
       "        [0.89198084, 0.27040296, 0.29155419],\n",
       "        [0.10058269, 0.44015991, 0.06591309]],\n",
       "\n",
       "       [[0.20699812, 0.25178021, 0.5055123 ],\n",
       "        [0.29047756, 0.23092602, 0.77243379],\n",
       "        [0.25593473, 0.75264023, 0.24900216]],\n",
       "\n",
       "       [[0.46991172, 0.48712524, 0.77549455],\n",
       "        [0.38366849, 0.98449142, 0.57911235],\n",
       "        [0.02760281, 0.50220161, 0.94612041]]])"
      ]
     },
     "execution_count": 41,
     "metadata": {},
     "output_type": "execute_result"
    }
   ],
   "source": [
    "Z = np.random.random((3,3,3))\n",
    "Z"
   ]
  },
  {
   "cell_type": "code",
   "execution_count": 45,
   "metadata": {},
   "outputs": [
    {
     "data": {
      "text/plain": [
       "array([[0.39478898, 0.39486008, 0.18995971],\n",
       "       [0.10141476, 0.05497649, 0.48138085],\n",
       "       [0.04020506, 0.7021839 , 0.02171922]])"
      ]
     },
     "execution_count": 45,
     "metadata": {},
     "output_type": "execute_result"
    }
   ],
   "source": [
    "Z = np.random.random((3,3))\n",
    "Z"
   ]
  },
  {
   "cell_type": "code",
   "execution_count": 47,
   "metadata": {},
   "outputs": [],
   "source": [
    "Zmin, Zmax = Z.min(), Z.max()"
   ]
  },
  {
   "cell_type": "code",
   "execution_count": 49,
   "metadata": {},
   "outputs": [
    {
     "data": {
      "text/plain": [
       "0.02171921544866351"
      ]
     },
     "execution_count": 49,
     "metadata": {},
     "output_type": "execute_result"
    }
   ],
   "source": [
    "Zmin\n",
    "\n",
    "#elemento mínimo da matriz"
   ]
  },
  {
   "cell_type": "code",
   "execution_count": 50,
   "metadata": {},
   "outputs": [
    {
     "data": {
      "text/plain": [
       "0.702183904868263"
      ]
     },
     "execution_count": 50,
     "metadata": {},
     "output_type": "execute_result"
    }
   ],
   "source": [
    "Zmax\n",
    "\n",
    "#máximo da matriz"
   ]
  },
  {
   "cell_type": "code",
   "execution_count": 53,
   "metadata": {},
   "outputs": [
    {
     "data": {
      "text/plain": [
       "0.26460989346835234"
      ]
     },
     "execution_count": 53,
     "metadata": {},
     "output_type": "execute_result"
    }
   ],
   "source": [
    "Z.mean()\n",
    "\n",
    "#média da matriz"
   ]
  },
  {
   "cell_type": "code",
   "execution_count": 61,
   "metadata": {},
   "outputs": [
    {
     "data": {
      "text/plain": [
       "array([[0, 1, 0, 1, 0, 1, 0, 1],\n",
       "       [1, 0, 1, 0, 1, 0, 1, 0],\n",
       "       [0, 1, 0, 1, 0, 1, 0, 1],\n",
       "       [1, 0, 1, 0, 1, 0, 1, 0],\n",
       "       [0, 1, 0, 1, 0, 1, 0, 1],\n",
       "       [1, 0, 1, 0, 1, 0, 1, 0],\n",
       "       [0, 1, 0, 1, 0, 1, 0, 1],\n",
       "       [1, 0, 1, 0, 1, 0, 1, 0]])"
      ]
     },
     "execution_count": 61,
     "metadata": {},
     "output_type": "execute_result"
    }
   ],
   "source": [
    "Z = np.tile( np.array([[0,1],[1,0]]), (4,4))\n",
    "Z"
   ]
  },
  {
   "cell_type": "code",
   "execution_count": 67,
   "metadata": {},
   "outputs": [
    {
     "data": {
      "text/plain": [
       "array([[1, 2, 1, 2],\n",
       "       [2, 2, 2, 2],\n",
       "       [1, 2, 1, 2],\n",
       "       [2, 2, 2, 2]])"
      ]
     },
     "execution_count": 67,
     "metadata": {},
     "output_type": "execute_result"
    }
   ],
   "source": [
    "np.tile(np.array([[1,2],[2,2]]),(2,2))"
   ]
  },
  {
   "cell_type": "code",
   "execution_count": 79,
   "metadata": {},
   "outputs": [
    {
     "data": {
      "text/plain": [
       "array([[0.19414388, 0.47806911, 0.43196056, 0.82573882, 0.43644421],\n",
       "       [0.68191674, 0.75921567, 0.88836388, 0.94598859, 0.42715893],\n",
       "       [0.0733566 , 0.36742005, 0.63428101, 0.5053179 , 0.84302404],\n",
       "       [0.42309296, 0.45738498, 0.00310098, 0.1622289 , 0.20266747],\n",
       "       [0.11103649, 0.44146141, 0.39233901, 0.70902606, 0.10483008]])"
      ]
     },
     "execution_count": 79,
     "metadata": {},
     "output_type": "execute_result"
    }
   ],
   "source": [
    "Z = np.random.random((5,5))\n",
    "Z"
   ]
  },
  {
   "cell_type": "markdown",
   "metadata": {},
   "source": [
    "# Multiplicação de Matrizes:"
   ]
  },
  {
   "cell_type": "code",
   "execution_count": 71,
   "metadata": {},
   "outputs": [
    {
     "data": {
      "text/plain": [
       "array([[3., 3.],\n",
       "       [3., 3.],\n",
       "       [3., 3.],\n",
       "       [3., 3.],\n",
       "       [3., 3.]])"
      ]
     },
     "execution_count": 71,
     "metadata": {},
     "output_type": "execute_result"
    }
   ],
   "source": [
    "Z = np.dot(np.ones((5,3)), np.ones((3,2)))\n",
    "Z"
   ]
  },
  {
   "cell_type": "code",
   "execution_count": 76,
   "metadata": {},
   "outputs": [
    {
     "data": {
      "text/plain": [
       "array([[1., 1., 1.],\n",
       "       [1., 1., 1.],\n",
       "       [1., 1., 1.],\n",
       "       [1., 1., 1.],\n",
       "       [1., 1., 1.]])"
      ]
     },
     "execution_count": 76,
     "metadata": {},
     "output_type": "execute_result"
    }
   ],
   "source": [
    "np.ones((5,3))"
   ]
  },
  {
   "cell_type": "code",
   "execution_count": 264,
   "metadata": {},
   "outputs": [
    {
     "data": {
      "text/plain": [
       "array([[1., 1.],\n",
       "       [1., 1.],\n",
       "       [1., 1.]])"
      ]
     },
     "execution_count": 264,
     "metadata": {},
     "output_type": "execute_result"
    }
   ],
   "source": [
    "np.ones((3,2))"
   ]
  },
  {
   "cell_type": "markdown",
   "metadata": {},
   "source": [
    "# Matrizes"
   ]
  },
  {
   "cell_type": "code",
   "execution_count": 97,
   "metadata": {},
   "outputs": [
    {
     "data": {
      "text/plain": [
       "array([[1, 2, 7],\n",
       "       [4, 6, 1],\n",
       "       [5, 4, 3]])"
      ]
     },
     "execution_count": 97,
     "metadata": {},
     "output_type": "execute_result"
    }
   ],
   "source": [
    "z=np.array([[1,2,7],[4,6,1],[5,4,3]])\n",
    "z"
   ]
  },
  {
   "cell_type": "code",
   "execution_count": 101,
   "metadata": {},
   "outputs": [
    {
     "data": {
      "text/plain": [
       "array([[10, 20, 30],\n",
       "       [50, 60, 70],\n",
       "       [30, 40, 80]])"
      ]
     },
     "execution_count": 101,
     "metadata": {},
     "output_type": "execute_result"
    }
   ],
   "source": [
    "y=np.array([[10,20,30],[50,60,70],[30,40,80]])\n",
    "y"
   ]
  },
  {
   "cell_type": "code",
   "execution_count": 104,
   "metadata": {},
   "outputs": [
    {
     "data": {
      "text/plain": [
       "array([[11, 22, 37],\n",
       "       [54, 66, 71],\n",
       "       [35, 44, 83]])"
      ]
     },
     "execution_count": 104,
     "metadata": {},
     "output_type": "execute_result"
    }
   ],
   "source": [
    "z+y"
   ]
  },
  {
   "cell_type": "code",
   "execution_count": 108,
   "metadata": {},
   "outputs": [
    {
     "data": {
      "text/plain": [
       "False"
      ]
     },
     "execution_count": 108,
     "metadata": {},
     "output_type": "execute_result"
    }
   ],
   "source": [
    "y.shape!=z.shape"
   ]
  },
  {
   "cell_type": "code",
   "execution_count": 112,
   "metadata": {},
   "outputs": [],
   "source": [
    "x=np.array([[10,80,40],[50,60,70]])"
   ]
  },
  {
   "cell_type": "markdown",
   "metadata": {},
   "source": [
    "# Soma Matrizes"
   ]
  },
  {
   "cell_type": "code",
   "execution_count": 119,
   "metadata": {},
   "outputs": [],
   "source": [
    "def somamatrizes(a,b):\n",
    "    if a.shape!=b.shape:\n",
    "        print('Impossível de ser calculado!')\n",
    "    else:\n",
    "        print(a+b)\n",
    "    \n",
    "    "
   ]
  },
  {
   "cell_type": "code",
   "execution_count": 120,
   "metadata": {},
   "outputs": [
    {
     "name": "stdout",
     "output_type": "stream",
     "text": [
      "[[11 22 37]\n",
      " [54 66 71]\n",
      " [35 44 83]]\n"
     ]
    }
   ],
   "source": [
    "somamatrizes(y,z)"
   ]
  },
  {
   "cell_type": "code",
   "execution_count": 121,
   "metadata": {},
   "outputs": [
    {
     "name": "stdout",
     "output_type": "stream",
     "text": [
      "Impossível de ser calculado!\n"
     ]
    }
   ],
   "source": [
    "somamatrizes (y,x)"
   ]
  },
  {
   "cell_type": "markdown",
   "metadata": {},
   "source": [
    "# Troca de Linhas e Colunas"
   ]
  },
  {
   "cell_type": "code",
   "execution_count": 137,
   "metadata": {},
   "outputs": [],
   "source": [
    "def trocalinhas(mat,l1,l2):\n",
    "    #troca as linhas l1 e l2 da matriz mat de posição\n",
    "    for i in range (mat.shape[1]):\n",
    "        aux=mat[l1,i]\n",
    "        mat[l1,i]=mat[l2,i]\n",
    "        mat[l2,i]=aux\n",
    "    return mat"
   ]
  },
  {
   "cell_type": "code",
   "execution_count": 140,
   "metadata": {},
   "outputs": [
    {
     "data": {
      "text/plain": [
       "array([[10, 80, 40],\n",
       "       [50, 60, 70]])"
      ]
     },
     "execution_count": 140,
     "metadata": {},
     "output_type": "execute_result"
    }
   ],
   "source": [
    "x"
   ]
  },
  {
   "cell_type": "code",
   "execution_count": 146,
   "metadata": {},
   "outputs": [
    {
     "data": {
      "text/plain": [
       "3"
      ]
     },
     "execution_count": 146,
     "metadata": {},
     "output_type": "execute_result"
    }
   ],
   "source": [
    "x.shape[1]\n",
    "#colunas"
   ]
  },
  {
   "cell_type": "code",
   "execution_count": 147,
   "metadata": {},
   "outputs": [
    {
     "data": {
      "text/plain": [
       "2"
      ]
     },
     "execution_count": 147,
     "metadata": {},
     "output_type": "execute_result"
    }
   ],
   "source": [
    "x.shape[0]\n",
    "#linhas"
   ]
  },
  {
   "cell_type": "code",
   "execution_count": 150,
   "metadata": {},
   "outputs": [
    {
     "data": {
      "text/plain": [
       "array([[50, 60, 70],\n",
       "       [10, 80, 40]])"
      ]
     },
     "execution_count": 150,
     "metadata": {},
     "output_type": "execute_result"
    }
   ],
   "source": [
    "trocalinhas(x,1,0)"
   ]
  },
  {
   "cell_type": "code",
   "execution_count": 161,
   "metadata": {},
   "outputs": [],
   "source": [
    "def trocacolunas(mat,l1,l2):\n",
    "    #troca as colunas l1 e l2 da matriz mat de posição\n",
    "    for i in range (mat.shape[0]):\n",
    "        aux=mat[i,l1]\n",
    "        mat[i,l1]=mat[i,l2]\n",
    "        mat[i,l2]=aux\n",
    "    return mat"
   ]
  },
  {
   "cell_type": "code",
   "execution_count": 163,
   "metadata": {},
   "outputs": [
    {
     "data": {
      "text/plain": [
       "array([[70, 60, 50],\n",
       "       [40, 80, 10]])"
      ]
     },
     "execution_count": 163,
     "metadata": {},
     "output_type": "execute_result"
    }
   ],
   "source": [
    "x"
   ]
  },
  {
   "cell_type": "code",
   "execution_count": 165,
   "metadata": {},
   "outputs": [
    {
     "data": {
      "text/plain": [
       "array([[50, 70, 60],\n",
       "       [10, 40, 80]])"
      ]
     },
     "execution_count": 165,
     "metadata": {},
     "output_type": "execute_result"
    }
   ],
   "source": [
    "trocacolunas(x,0,2)"
   ]
  },
  {
   "cell_type": "markdown",
   "metadata": {},
   "source": [
    "# Matriz Randômica"
   ]
  },
  {
   "cell_type": "code",
   "execution_count": 201,
   "metadata": {},
   "outputs": [
    {
     "data": {
      "text/plain": [
       "array([[ 6, 14, 20, 14],\n",
       "       [20,  3, 23, 21]])"
      ]
     },
     "execution_count": 201,
     "metadata": {},
     "output_type": "execute_result"
    }
   ],
   "source": [
    "p=np.random.randint(25, size=(2, 4))\n",
    "p"
   ]
  },
  {
   "cell_type": "markdown",
   "metadata": {},
   "source": [
    "# Normalizando uma matriz"
   ]
  },
  {
   "cell_type": "code",
   "execution_count": 202,
   "metadata": {},
   "outputs": [
    {
     "data": {
      "text/plain": [
       "15.125"
      ]
     },
     "execution_count": 202,
     "metadata": {},
     "output_type": "execute_result"
    }
   ],
   "source": [
    "np.mean(p)\n",
    "#Média"
   ]
  },
  {
   "cell_type": "code",
   "execution_count": 203,
   "metadata": {},
   "outputs": [
    {
     "data": {
      "text/plain": [
       "6.863626956646173"
      ]
     },
     "execution_count": 203,
     "metadata": {},
     "output_type": "execute_result"
    }
   ],
   "source": [
    "np.std(p)\n",
    "#Desvio Padrão"
   ]
  },
  {
   "cell_type": "code",
   "execution_count": 204,
   "metadata": {},
   "outputs": [
    {
     "data": {
      "text/plain": [
       "array([[ -9.125,  -1.125,   4.875,  -1.125],\n",
       "       [  4.875, -12.125,   7.875,   5.875]])"
      ]
     },
     "execution_count": 204,
     "metadata": {},
     "output_type": "execute_result"
    }
   ],
   "source": [
    "ç=p-np.mean(p)\n",
    "ç"
   ]
  },
  {
   "cell_type": "code",
   "execution_count": 209,
   "metadata": {},
   "outputs": [
    {
     "data": {
      "text/plain": [
       "array([[-1.32947202, -0.16390751,  0.71026587, -0.16390751],\n",
       "       [ 0.71026587, -1.76655871,  1.14735257,  0.85596144]])"
      ]
     },
     "execution_count": 209,
     "metadata": {},
     "output_type": "execute_result"
    }
   ],
   "source": [
    "ç/np.std(p)"
   ]
  },
  {
   "cell_type": "code",
   "execution_count": 210,
   "metadata": {},
   "outputs": [
    {
     "data": {
      "text/plain": [
       "array([[-2., -1.,  0., -1.],\n",
       "       [ 0., -2.,  1.,  0.]])"
      ]
     },
     "execution_count": 210,
     "metadata": {},
     "output_type": "execute_result"
    }
   ],
   "source": [
    "ç//np.std(p)"
   ]
  },
  {
   "cell_type": "code",
   "execution_count": 211,
   "metadata": {},
   "outputs": [
    {
     "name": "stdout",
     "output_type": "stream",
     "text": [
      "[[-1.32947202 -0.16390751  0.71026587 -0.16390751]\n",
      " [ 0.71026587 -1.76655871  1.14735257  0.85596144]]\n"
     ]
    }
   ],
   "source": [
    "ç = (p - np.mean (p)) / (np.std (p))\n",
    "print(ç)"
   ]
  },
  {
   "cell_type": "markdown",
   "metadata": {},
   "source": [
    "# Multiplicação de Matrizes sem a função do Nunpy"
   ]
  },
  {
   "cell_type": "code",
   "execution_count": 217,
   "metadata": {},
   "outputs": [
    {
     "data": {
      "text/plain": [
       "array([[1, 2, 3],\n",
       "       [4, 5, 6]])"
      ]
     },
     "execution_count": 217,
     "metadata": {},
     "output_type": "execute_result"
    }
   ],
   "source": [
    "v=np.array([[1,2,3],[4,5,6]])\n",
    "v"
   ]
  },
  {
   "cell_type": "code",
   "execution_count": 222,
   "metadata": {},
   "outputs": [
    {
     "data": {
      "text/plain": [
       "array([[4, 6, 3],\n",
       "       [6, 4, 3],\n",
       "       [4, 1, 3]])"
      ]
     },
     "execution_count": 222,
     "metadata": {},
     "output_type": "execute_result"
    }
   ],
   "source": [
    "k=np.array([[4,6,3],[6,4,3],[4,1,3]])\n",
    "k"
   ]
  },
  {
   "cell_type": "code",
   "execution_count": 227,
   "metadata": {},
   "outputs": [
    {
     "data": {
      "text/plain": [
       "array([[1, 2, 3, 4],\n",
       "       [1, 4, 5, 3],\n",
       "       [1, 5, 6, 3],\n",
       "       [1, 2, 3, 6]])"
      ]
     },
     "execution_count": 227,
     "metadata": {},
     "output_type": "execute_result"
    }
   ],
   "source": [
    "t=np.array([[1,2,3,4],[1,4,5,3],[1,5,6,3],[1,2,3,6]])\n",
    "t"
   ]
  },
  {
   "cell_type": "code",
   "execution_count": 261,
   "metadata": {},
   "outputs": [],
   "source": [
    "def matmult(a,b):\n",
    "    #multiplica as matrizes a e b \"na marra\", sem usar a função de multiplicação de matrizes do NumPy\n",
    "    nan='ERROR'\n",
    "    nlina=a.shape[0]\n",
    "    ncola=a.shape[1]\n",
    "    nlinb=b.shape[0]\n",
    "    ncolb=b.shape[1]\n",
    "    if ncola!=nlinb:\n",
    "        print(\"Dimensões incompatíveis\")\n",
    "        return nan\n",
    "    nlinc=nlina\n",
    "    ncolc=ncolb\n",
    "    c=np.zeros((nlinc,ncolc))\n",
    "    for i in range (nlinc):\n",
    "        for j in range (ncolc):\n",
    "            c[i,j]=0\n",
    "            for k in range (ncola):\n",
    "                c[i,j]=c[i,j]+a[i,k]*b[k,j]\n",
    "    return c"
   ]
  },
  {
   "cell_type": "code",
   "execution_count": 262,
   "metadata": {},
   "outputs": [
    {
     "data": {
      "text/plain": [
       "array([[28., 17., 18.],\n",
       "       [70., 50., 45.]])"
      ]
     },
     "execution_count": 262,
     "metadata": {},
     "output_type": "execute_result"
    }
   ],
   "source": [
    "matmult(v,k)"
   ]
  },
  {
   "cell_type": "code",
   "execution_count": 263,
   "metadata": {},
   "outputs": [
    {
     "name": "stdout",
     "output_type": "stream",
     "text": [
      "Dimensões incompatíveis\n"
     ]
    },
    {
     "data": {
      "text/plain": [
       "'ERROR'"
      ]
     },
     "execution_count": 263,
     "metadata": {},
     "output_type": "execute_result"
    }
   ],
   "source": [
    "matmult(v,t)"
   ]
  },
  {
   "cell_type": "markdown",
   "metadata": {},
   "source": [
    "# Calcular o determinante de uma matriz usando o método de escalonamento."
   ]
  },
  {
   "cell_type": "code",
   "execution_count": 269,
   "metadata": {},
   "outputs": [],
   "source": [
    "def det(a):\n",
    "    #calcula o determinante da matriz pelo método do escalonamento\n",
    "    nlins=a.shape[0]\n",
    "    ncols=a.shape[1]\n",
    "    mult=1\n",
    "    for linbase in range(nlins):\n",
    "        #pega o elemento da diagonal como fator da linha base\n",
    "        fator=a[linbase,linbase]\n",
    "        mult=mult*fator\n",
    "        #divide os elementos da linha base pelo fator, pra ficar com 1 na diagonal\n",
    "        for col in range(ncols):\n",
    "            a[linbase,col]=a[linbase,col]/fator\n",
    "        #substitui os elementos das linhas abaixo de forma a fazer os elementos abaixo do fator ficarem com zero\n",
    "        for lin in range (linbase+1,nlins):\n",
    "            #pega como \"pivô\" o elemento da linha que está na coluna do fator da linha base \n",
    "            pivo=a[lin,linbase]\n",
    "            for col in range(ncols):\n",
    "                a[lin,col]=a[lin,col]-pivo*a[linbase,col]\n",
    "        #print (mat)\n",
    "    return mult"
   ]
  },
  {
   "cell_type": "code",
   "execution_count": null,
   "metadata": {},
   "outputs": [],
   "source": []
  },
  {
   "cell_type": "markdown",
   "metadata": {},
   "source": [
    "# Exercicio 2 A2"
   ]
  },
  {
   "cell_type": "code",
   "execution_count": 16,
   "metadata": {},
   "outputs": [],
   "source": [
    "def primo(n):\n",
    "    divisores=2\n",
    "    for i in range (2,n):\n",
    "        if n%i==0:\n",
    "            divisores=divisores+1\n",
    "    return divisores\n",
    "def primos(n):\n",
    "    primos=[]\n",
    "    for x in range (1,n+1):\n",
    "        if primo(x)==2:\n",
    "            primos.append(x)\n",
    "    return primos"
   ]
  },
  {
   "cell_type": "code",
   "execution_count": null,
   "metadata": {},
   "outputs": [],
   "source": []
  },
  {
   "cell_type": "code",
   "execution_count": 271,
   "metadata": {},
   "outputs": [],
   "source": [
    "def q2fatores(n):\n",
    "    p=primos(n)\n",
    "    divisores=[]\n",
    "    for i in range(1,len(p)):\n",
    "        while n%p[i]==0:\n",
    "            divisores.append(p[i])\n",
    "            n=n/p[i]\n",
    "    divunicos=np.unique(divisores)\n",
    "    m=np.zeros((len(divunicos),2))\n",
    "    m=np.asmatrix(m)\n",
    "    for a in range (0,len(divunicos)):\n",
    "        m[a,0]=divunicos[a]\n",
    "    for e in range (0,len(divunicos)):\n",
    "        m[e,1]=divisores.count(divunicos[e])\n",
    "    return m"
   ]
  },
  {
   "cell_type": "code",
   "execution_count": 272,
   "metadata": {},
   "outputs": [
    {
     "data": {
      "text/plain": [
       "matrix([[3., 2.],\n",
       "        [5., 1.]])"
      ]
     },
     "execution_count": 272,
     "metadata": {},
     "output_type": "execute_result"
    }
   ],
   "source": [
    "q2fatores(45)"
   ]
  },
  {
   "cell_type": "markdown",
   "metadata": {},
   "source": [
    "# DIAS NUNPY"
   ]
  },
  {
   "cell_type": "code",
   "execution_count": 274,
   "metadata": {},
   "outputs": [],
   "source": [
    "yesterday = np.datetime64('today', 'D') - np.timedelta64(1, 'D')\n",
    "today     = np.datetime64('today', 'D')\n",
    "tomorrow  = np.datetime64('today', 'D') + np.timedelta64(1, 'D')"
   ]
  },
  {
   "cell_type": "markdown",
   "metadata": {},
   "source": [
    "# CÁLCULOS NUNPY"
   ]
  },
  {
   "cell_type": "code",
   "execution_count": 275,
   "metadata": {},
   "outputs": [
    {
     "data": {
      "text/plain": [
       "array([-1.5, -1.5, -1.5])"
      ]
     },
     "execution_count": 275,
     "metadata": {},
     "output_type": "execute_result"
    }
   ],
   "source": [
    "A = np.ones(3)*1\n",
    "B = np.ones(3)*2\n",
    "C = np.ones(3)*3\n",
    "np.add(A,B,out=B)\n",
    "np.divide(A,2,out=A)\n",
    "np.negative(A,out=A)\n",
    "np.multiply(A,B,out=A)"
   ]
  },
  {
   "cell_type": "markdown",
   "metadata": {},
   "source": [
    "# FORMANDO INTEIROS EM MATRIZES"
   ]
  },
  {
   "cell_type": "code",
   "execution_count": 304,
   "metadata": {},
   "outputs": [
    {
     "data": {
      "text/plain": [
       "array([5.0642264 , 6.78172897, 7.664684  , 8.53674442, 7.55838611,\n",
       "       8.83759397, 7.22965528, 8.82603574, 5.14145421, 5.6848409 ])"
      ]
     },
     "execution_count": 304,
     "metadata": {},
     "output_type": "execute_result"
    }
   ],
   "source": [
    "Z = np.random.uniform(5,10,10)\n",
    "Z"
   ]
  },
  {
   "cell_type": "code",
   "execution_count": 305,
   "metadata": {},
   "outputs": [
    {
     "name": "stdout",
     "output_type": "stream",
     "text": [
      "[5. 6. 7. 8. 7. 8. 7. 8. 5. 5.]\n"
     ]
    }
   ],
   "source": [
    "print (Z - Z%1)"
   ]
  },
  {
   "cell_type": "code",
   "execution_count": null,
   "metadata": {},
   "outputs": [],
   "source": [
    "print (np.floor(Z))"
   ]
  },
  {
   "cell_type": "markdown",
   "metadata": {},
   "source": [
    "# SORT (Bubble Sort)"
   ]
  },
  {
   "cell_type": "code",
   "execution_count": 318,
   "metadata": {},
   "outputs": [
    {
     "name": "stdout",
     "output_type": "stream",
     "text": [
      "[0.15317737 0.18624044 0.29858935 0.36341593 0.42345915 0.65954953\n",
      " 0.66705159 0.69140822 0.75278458 0.92301857]\n"
     ]
    }
   ],
   "source": [
    "Z = np.random.random(10)\n",
    "Z.sort()\n",
    "print(Z)"
   ]
  },
  {
   "cell_type": "markdown",
   "metadata": {},
   "source": [
    "###### BUBBLE SORT SEM USAR A FUNÇÃO"
   ]
  },
  {
   "cell_type": "code",
   "execution_count": 1,
   "metadata": {},
   "outputs": [],
   "source": [
    "def bubble(lista):\n",
    "    for i in range (0,len(lista)-1):\n",
    "        x=lista[i]\n",
    "        y=lista[i+1]\n",
    "        if x>y:\n",
    "            lista[i+1]=x\n",
    "            lista[i]=y\n",
    "    for i in range (0,len(lista)-1):\n",
    "        x=lista[i]\n",
    "        y=lista[i+1]\n",
    "        if x>y:\n",
    "            bubble(lista)\n",
    "    return lista"
   ]
  },
  {
   "cell_type": "code",
   "execution_count": 3,
   "metadata": {},
   "outputs": [
    {
     "data": {
      "text/plain": [
       "[1, 2, 3, 4, 5, 8, 10, 20]"
      ]
     },
     "execution_count": 3,
     "metadata": {},
     "output_type": "execute_result"
    }
   ],
   "source": [
    "bubble([1,5,10,2,8,4,3,20])"
   ]
  },
  {
   "cell_type": "code",
   "execution_count": 329,
   "metadata": {},
   "outputs": [
    {
     "data": {
      "text/plain": [
       "8"
      ]
     },
     "execution_count": 329,
     "metadata": {},
     "output_type": "execute_result"
    }
   ],
   "source": [
    "len([1,5,10,2,8,4,3,20])"
   ]
  },
  {
   "cell_type": "code",
   "execution_count": 330,
   "metadata": {},
   "outputs": [],
   "source": [
    "def meu_bobo_sort(lista):\n",
    "    houvetroca=1\n",
    "    passadas=0 #serve para controlar o loop e evitar que vá até o final da lista desnecessariamente\n",
    "    while houvetroca==1:\n",
    "        houvetroca=0\n",
    "        for i in range(len(lista)-1-passadas):\n",
    "            if lista[i]>lista[i+1]:\n",
    "                aux=lista[i+1]\n",
    "                lista[i+1]=lista[i]\n",
    "                lista[i]=aux\n",
    "                houvetroca=1\n",
    "        passadas=passadas+1\n",
    "    return lista"
   ]
  },
  {
   "cell_type": "code",
   "execution_count": 331,
   "metadata": {},
   "outputs": [
    {
     "data": {
      "text/plain": [
       "[1, 2, 3, 4, 5, 8, 10, 20]"
      ]
     },
     "execution_count": 331,
     "metadata": {},
     "output_type": "execute_result"
    }
   ],
   "source": [
    "meu_bobo_sort([1,5,10,2,8,4,3,20])"
   ]
  },
  {
   "cell_type": "markdown",
   "metadata": {},
   "source": [
    "# COORDENADA CARTESIANA PARA POLAR\n"
   ]
  },
  {
   "cell_type": "code",
   "execution_count": 323,
   "metadata": {},
   "outputs": [
    {
     "name": "stdout",
     "output_type": "stream",
     "text": [
      "[0.66109801 1.0197359  0.89331406 0.50954331 0.51785288 1.19650589\n",
      " 0.45652921 0.73967919 0.87887044 0.87197052]\n",
      "[0.36821694 0.27879036 0.46301955 0.1797357  0.91839863 0.73252161\n",
      " 0.53563046 0.43372127 1.06708353 0.12163931]\n",
      "[[0.61678504 0.23796385]\n",
      " [0.9803629  0.28062409]\n",
      " [0.79925514 0.39900029]\n",
      " [0.50133506 0.09109082]\n",
      " [0.31438509 0.41150167]\n",
      " [0.8895907  0.80015919]\n",
      " [0.39259094 0.23300489]\n",
      " [0.67119094 0.31085049]\n",
      " [0.42421364 0.76971166]\n",
      " [0.86552758 0.10580453]]\n"
     ]
    }
   ],
   "source": [
    "Z = np.random.random((10,2))\n",
    "X,Y = Z[:,0], Z[:,1]\n",
    "R = np.sqrt(X**2+Y**2)\n",
    "T = np.arctan2(Y,X)\n",
    "print(R)\n",
    "print(T)\n",
    "print(Z)"
   ]
  },
  {
   "cell_type": "markdown",
   "metadata": {},
   "source": [
    "# CALCULANDO A TRANSPOSTA"
   ]
  },
  {
   "cell_type": "code",
   "execution_count": 13,
   "metadata": {},
   "outputs": [
    {
     "data": {
      "text/plain": [
       "array([[10, 80, 40],\n",
       "       [50, 60, 70],\n",
       "       [30, 60, 10]])"
      ]
     },
     "execution_count": 13,
     "metadata": {},
     "output_type": "execute_result"
    }
   ],
   "source": [
    "x=np.array([[10,80,40],[50,60,70],[30,60,10]])\n",
    "x"
   ]
  },
  {
   "cell_type": "code",
   "execution_count": 6,
   "metadata": {},
   "outputs": [],
   "source": [
    "def transposeMatrix(M):\n",
    "    aux=[]\n",
    "    for j in range(len(M[0])):\n",
    "        linha=[]\n",
    "        for i in range(len(M)):\n",
    "            linha.append(M[i][j])\n",
    "            aux.append(linha)\n",
    "    return aux"
   ]
  },
  {
   "cell_type": "code",
   "execution_count": 14,
   "metadata": {},
   "outputs": [
    {
     "data": {
      "text/plain": [
       "[[10, 50, 30],\n",
       " [10, 50, 30],\n",
       " [10, 50, 30],\n",
       " [80, 60, 60],\n",
       " [80, 60, 60],\n",
       " [80, 60, 60],\n",
       " [40, 70, 10],\n",
       " [40, 70, 10],\n",
       " [40, 70, 10]]"
      ]
     },
     "execution_count": 14,
     "metadata": {},
     "output_type": "execute_result"
    }
   ],
   "source": [
    "transposeMatrix(x)"
   ]
  },
  {
   "cell_type": "code",
   "execution_count": 38,
   "metadata": {},
   "outputs": [
    {
     "data": {
      "text/plain": [
       "array([[1, 4, 5],\n",
       "       [4, 6, 2],\n",
       "       [2, 0, 5]])"
      ]
     },
     "execution_count": 38,
     "metadata": {},
     "output_type": "execute_result"
    }
   ],
   "source": [
    "y=np.array([[1,4,5],[4,6,2],[2,0,5]])\n",
    "y"
   ]
  },
  {
   "cell_type": "code",
   "execution_count": 30,
   "metadata": {},
   "outputs": [],
   "source": [
    "def matriznula(nlinhas,ncols):\n",
    "    M=[]\n",
    "    for i in range(nlinhas):\n",
    "        linha=[0]*ncols\n",
    "        M.append(linha)\n",
    "    return M\n",
    "        "
   ]
  },
  {
   "cell_type": "code",
   "execution_count": 43,
   "metadata": {},
   "outputs": [],
   "source": [
    "def transposta(M):\n",
    "    nlinhas=M.shape[0]\n",
    "    ncolunas=M.shape[1]\n",
    "    T=matriznula(ncolunas,nlinhas)\n",
    "    for i in range(nlinhas):\n",
    "        for j in range(ncolunas):\n",
    "            T[j][i]=M[i][j]\n",
    "    return np.array([T])"
   ]
  },
  {
   "cell_type": "code",
   "execution_count": 45,
   "metadata": {},
   "outputs": [
    {
     "data": {
      "text/plain": [
       "array([[[1, 4, 2],\n",
       "        [4, 6, 0],\n",
       "        [5, 2, 5]]])"
      ]
     },
     "execution_count": 45,
     "metadata": {},
     "output_type": "execute_result"
    }
   ],
   "source": [
    "transposta(y)"
   ]
  }
 ],
 "metadata": {
  "kernelspec": {
   "display_name": "Python 3",
   "language": "python",
   "name": "python3"
  },
  "language_info": {
   "codemirror_mode": {
    "name": "ipython",
    "version": 3
   },
   "file_extension": ".py",
   "mimetype": "text/x-python",
   "name": "python",
   "nbconvert_exporter": "python",
   "pygments_lexer": "ipython3",
   "version": "3.7.4"
  }
 },
 "nbformat": 4,
 "nbformat_minor": 2
}
