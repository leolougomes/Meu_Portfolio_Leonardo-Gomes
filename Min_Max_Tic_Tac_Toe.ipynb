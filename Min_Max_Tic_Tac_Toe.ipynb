{
  "nbformat": 4,
  "nbformat_minor": 0,
  "metadata": {
    "colab": {
      "name": "Min.Max.Tic_Tac_Toe.ipynb",
      "provenance": [],
      "authorship_tag": "ABX9TyMb+X9wumD2ZnIKeU42JiF1",
      "include_colab_link": true
    },
    "kernelspec": {
      "name": "python3",
      "display_name": "Python 3"
    },
    "language_info": {
      "name": "python"
    }
  },
  "cells": [
    {
      "cell_type": "markdown",
      "metadata": {
        "id": "view-in-github",
        "colab_type": "text"
      },
      "source": [
        "<a href=\"https://colab.research.google.com/github/leolougomes/Meu_Portfolio_Leonardo-Gomes/blob/master/Min_Max_Tic_Tac_Toe.ipynb\" target=\"_parent\"><img src=\"https://colab.research.google.com/assets/colab-badge.svg\" alt=\"Open In Colab\"/></a>"
      ]
    },
    {
      "cell_type": "markdown",
      "metadata": {
        "id": "-kZoU-5aBz3v"
      },
      "source": [
        "# Minimax Algorithm - Tic Tac Toe - Game Theory"
      ]
    },
    {
      "cell_type": "markdown",
      "metadata": {
        "id": "8yecjhl5B14v"
      },
      "source": [
        "The maximin value is the highest value that the player can be sure to get without knowing the actions of the other players; equivalently, it is the lowest value the other players can force the player to receive when they know the player's action. Its formal definition is:"
      ]
    },
    {
      "cell_type": "markdown",
      "metadata": {
        "id": "FBT-7s00B49h"
      },
      "source": [
        "\\begin{equation} \n",
        "v_i = \\min_{a_{i}}\\max_{a_{-i}}v_i(a_i,a_{-i}) = \\min_{a_{i}}( \\max_{a_{-i}}v_i(a_i,a_{-i}) )\n",
        "\\end{equation}"
      ]
    },
    {
      "cell_type": "markdown",
      "metadata": {
        "id": "wioVInv3B8bi"
      },
      "source": [
        "A simple version of the minimax algorithm deals with games such as tic-tac-toe, where each player can win, lose, or draw. If player A can win in one move, their best move is that winning move. If player B knows that one move will lead to the situation where player A can win in one move, while another move will lead to the situation where player A can, at best, draw, then player B's best move is the one leading to a draw. Late in the game, it's easy to see what the \"best\" move is. The Minimax algorithm helps find the best move, by working backwards from the end of the game. At each step it assumes that player A is trying to maximize the chances of A winning, while on the next turn player B is trying to minimize the chances of A winning (i.e., to maximize B's own chances of winning)."
      ]
    },
    {
      "cell_type": "code",
      "metadata": {
        "id": "7Bx32KDQCB-k"
      },
      "source": [
        "import math\n",
        "import time\n",
        "import random"
      ],
      "execution_count": 1,
      "outputs": []
    },
    {
      "cell_type": "markdown",
      "metadata": {
        "id": "JNXmeCklCMIp"
      },
      "source": [
        "# 1) Creating the Tic Tac Toe Board and Mechanics."
      ]
    },
    {
      "cell_type": "code",
      "metadata": {
        "id": "ixeZrRc9CGDX"
      },
      "source": [
        "class TicTacToe():    \n",
        "    \n",
        "    def __init__(self):\n",
        "        self.board = self.make_board()\n",
        "        self.current_winner = None\n",
        "        \n",
        "    # In tic tac toe there is 9 spaces, We will define like that:\n",
        "        \n",
        "    def make_board(self):\n",
        "        return [' ' for _ in range(9)]\n",
        "    \n",
        "    # For Visualization purpose we are gonna make a separation of this 9 space like a #.\n",
        "    \n",
        "    def print_board(self):\n",
        "        for row in [self.board[i*3:(i+1) * 3] for i in range(3)]:\n",
        "            print('| ' + ' | '.join(row) + ' |')\n",
        "            \n",
        "    # For Visualization purpose we are gonna make a board were it show us the number of the square that is empty.      \n",
        "    \n",
        "    def print_board_nums(self):\n",
        "        # 0 | 1 | 2\n",
        "        number_board = [[str(i) for i in range(j*3, (j+1)*3)] for j in range(3)]\n",
        "        for row in number_board:\n",
        "            print('| ' + ' | '.join(row) + ' |')\n",
        "            \n",
        "            \n",
        "    # Now, we are gonna make a representation of each move. \n",
        "    # Were letter = 'X' or 'O'.\n",
        "    # Square is the spaces of the board, if the space/square is empty we are gonna print the Letter, if not we are gonna return False.\n",
        "    # Also in this function we are gonna chek the winner that we are gonna define by a previous function called \"winner\"\n",
        "    \n",
        "    def make_move(self, square, letter):\n",
        "        if self.board[square] == ' ':\n",
        "            self.board[square] = letter\n",
        "            if self.winner(square, letter):\n",
        "                self.current_winner = letter\n",
        "            return True\n",
        "        return False\n",
        "\n",
        "    # On this function we are gonna look if there is a winner first in the rows and then in the diagonals.\n",
        "    # If any of the rows there are 3 letters equals than we are gonna return true.\n",
        "    # Also if any of the diagonals are 3 letters equals also we return true.\n",
        "    # If not, we return false, there's not a winner yet.\n",
        "    \n",
        "    def winner(self, square, letter):\n",
        "        # check the row\n",
        "        row_ind = math.floor(square / 3)\n",
        "        row = self.board[row_ind*3:(row_ind+1)*3]\n",
        "        # print('row', row)\n",
        "        if all([s == letter for s in row]):\n",
        "            return True\n",
        "        col_ind = square % 3\n",
        "        column = [self.board[col_ind+i*3] for i in range(3)]\n",
        "        # print('col', column)\n",
        "        if all([s == letter for s in column]):\n",
        "            return True\n",
        "        if square % 2 == 0:\n",
        "            diagonal1 = [self.board[i] for i in [0, 4, 8]]\n",
        "            # print('diag1', diagonal1)\n",
        "            if all([s == letter for s in diagonal1]):\n",
        "                return True\n",
        "            diagonal2 = [self.board[i] for i in [2, 4, 6]]\n",
        "            # print('diag2', diagonal2)\n",
        "            if all([s == letter for s in diagonal2]):\n",
        "                return True\n",
        "        return False\n",
        "    \n",
        "\n",
        "    # These 3 next functions look for the empty squares, if they exist, and then enumerates from these empty squares.\n",
        "    \n",
        "    def empty_squares(self):\n",
        "        return ' ' in self.board\n",
        "\n",
        "    def num_empty_squares(self):\n",
        "        return self.board.count(' ')\n",
        "\n",
        "    def available_moves(self):\n",
        "        return [i for i, x in enumerate(self.board) if x == \" \"]"
      ],
      "execution_count": 2,
      "outputs": []
    },
    {
      "cell_type": "markdown",
      "metadata": {
        "id": "LmIduBrpCOqu"
      },
      "source": [
        "# 2) Creating Types of Players"
      ]
    },
    {
      "cell_type": "code",
      "metadata": {
        "id": "VRWLHQPnCO7U"
      },
      "source": [
        "class Player():\n",
        "    def __init__(self, letter):\n",
        "        self.letter = letter\n",
        "\n",
        "    def get_move(self, game):\n",
        "        pass"
      ],
      "execution_count": 3,
      "outputs": []
    },
    {
      "cell_type": "markdown",
      "metadata": {
        "id": "EKj3H17hCThu"
      },
      "source": [
        "1) Human Player:"
      ]
    },
    {
      "cell_type": "code",
      "metadata": {
        "id": "p1KeYIChCW-Y"
      },
      "source": [
        "class HumanPlayer(Player):\n",
        "    def __init__(self, letter):\n",
        "        super().__init__(letter)\n",
        "\n",
        "    def get_move(self, game):\n",
        "        valid_square = False\n",
        "        val = None\n",
        "        while not valid_square:\n",
        "            square = input(self.letter + '\\'s turn. Input move (0-9): ')\n",
        "            try:\n",
        "                val = int(square)\n",
        "                if val not in game.available_moves():\n",
        "                    raise ValueError\n",
        "                valid_square = True\n",
        "            except ValueError:\n",
        "                print('Invalid square. Try again.')\n",
        "        return val"
      ],
      "execution_count": 4,
      "outputs": []
    },
    {
      "cell_type": "markdown",
      "metadata": {
        "id": "IWSMwt7vCZjJ"
      },
      "source": [
        "2) Random Computer Player."
      ]
    },
    {
      "cell_type": "code",
      "metadata": {
        "id": "C6--rXHZCatS"
      },
      "source": [
        "# These Random Computer are just gonna make random moves.\n",
        "\n",
        "class RandomComputerPlayer(Player):\n",
        "    def __init__(self, letter):\n",
        "        super().__init__(letter)\n",
        "\n",
        "    def get_move(self, game):\n",
        "        square = random.choice(game.available_moves())\n",
        "        return square"
      ],
      "execution_count": 5,
      "outputs": []
    },
    {
      "cell_type": "markdown",
      "metadata": {
        "id": "_r_E6wORCdVb"
      },
      "source": [
        "3) Smart Computer Player"
      ]
    },
    {
      "cell_type": "code",
      "metadata": {
        "id": "3og8-557Cdi0"
      },
      "source": [
        "class SmartComputerPlayer(Player):\n",
        "    def __init__(self, letter):\n",
        "        super().__init__(letter)\n",
        "\n",
        "    def get_move(self, game):\n",
        "        if len(game.available_moves()) == 9:\n",
        "            square = random.choice(game.available_moves())\n",
        "        else:\n",
        "            square = self.minimax(game, self.letter)['position']\n",
        "        return square\n",
        "\n",
        "    # State statement means the state of the current game\n",
        "    \n",
        "    def minimax(self, state, player):\n",
        "        max_player = self.letter  # yourself\n",
        "        other_player = 'O' if player == 'X' else 'X'\n",
        "\n",
        "        # first we want to check if the previous move is a winner\n",
        "        if state.current_winner == other_player:\n",
        "            return {'position': None, 'score': 1 * (state.num_empty_squares() + 1) if other_player == max_player else -1 * (\n",
        "                        state.num_empty_squares() + 1)}\n",
        "        elif not state.empty_squares():\n",
        "            return {'position': None, 'score': 0}\n",
        "\n",
        "        if player == max_player:\n",
        "            best = {'position': None, 'score': -math.inf}  # each score should maximize\n",
        "        else:\n",
        "            best = {'position': None, 'score': math.inf}  # each score should minimize\n",
        "        for possible_move in state.available_moves():\n",
        "            state.make_move(possible_move, player)\n",
        "            sim_score = self.minimax(state, other_player)  # simulate a game after making that move\n",
        "\n",
        "            # undo move\n",
        "            state.board[possible_move] = ' '\n",
        "            state.current_winner = None\n",
        "            sim_score['position'] = possible_move  # this represents the move optimal next move\n",
        "\n",
        "            if player == max_player:  # X is max player\n",
        "                if sim_score['score'] > best['score']:\n",
        "                    best = sim_score\n",
        "            else:\n",
        "                if sim_score['score'] < best['score']:\n",
        "                    best = sim_score\n",
        "        return best"
      ],
      "execution_count": 6,
      "outputs": []
    },
    {
      "cell_type": "markdown",
      "metadata": {
        "id": "zxRYmLYGCjo9"
      },
      "source": [
        "3) Creating The Game"
      ]
    },
    {
      "cell_type": "code",
      "metadata": {
        "id": "qNooqn4xCkIf"
      },
      "source": [
        "def play(game, x_player, o_player, print_game=True):\n",
        "\n",
        "    if print_game:\n",
        "        game.print_board_nums()\n",
        "\n",
        "    letter = 'X'\n",
        "    while game.empty_squares():\n",
        "        if letter == 'O':\n",
        "            square = o_player.get_move(game)\n",
        "        else:\n",
        "            square = x_player.get_move(game)\n",
        "        if game.make_move(square, letter):\n",
        "\n",
        "            if print_game:\n",
        "                print(letter + ' makes a move to square {}'.format(square))\n",
        "                game.print_board()\n",
        "                print('')\n",
        "\n",
        "            if game.current_winner:\n",
        "                if print_game:\n",
        "                    print(letter + ' wins!')\n",
        "                return letter  # ends the loop and exits the game\n",
        "            letter = 'O' if letter == 'X' else 'X'  # switches player\n",
        "\n",
        "        time.sleep(.8)\n",
        "\n",
        "    if print_game:\n",
        "        print('It\\'s a tie!')"
      ],
      "execution_count": 7,
      "outputs": []
    },
    {
      "cell_type": "markdown",
      "metadata": {
        "id": "Yq58G3zcCoCR"
      },
      "source": [
        "4) PLAY!!!!!!"
      ]
    },
    {
      "cell_type": "code",
      "metadata": {
        "colab": {
          "base_uri": "https://localhost:8080/",
          "height": 835
        },
        "id": "zuXzaQE_CnSx",
        "outputId": "4c9ee15f-a10f-479e-e8b2-d2e41be02354"
      },
      "source": [
        "        x_player = RandomComputerPlayer('X')\n",
        "        o_player = SmartComputerPlayer('O')\n",
        "        t = TicTacToe()\n",
        "        play(t, x_player, o_player, print_game=True)"
      ],
      "execution_count": 8,
      "outputs": [
        {
          "output_type": "stream",
          "text": [
            "| 0 | 1 | 2 |\n",
            "| 3 | 4 | 5 |\n",
            "| 6 | 7 | 8 |\n",
            "X makes a move to square 8\n",
            "|   |   |   |\n",
            "|   |   |   |\n",
            "|   |   | X |\n",
            "\n",
            "O makes a move to square 4\n",
            "|   |   |   |\n",
            "|   | O |   |\n",
            "|   |   | X |\n",
            "\n",
            "X makes a move to square 3\n",
            "|   |   |   |\n",
            "| X | O |   |\n",
            "|   |   | X |\n",
            "\n",
            "O makes a move to square 0\n",
            "| O |   |   |\n",
            "| X | O |   |\n",
            "|   |   | X |\n",
            "\n",
            "X makes a move to square 1\n",
            "| O | X |   |\n",
            "| X | O |   |\n",
            "|   |   | X |\n",
            "\n",
            "O makes a move to square 2\n",
            "| O | X | O |\n",
            "| X | O |   |\n",
            "|   |   | X |\n",
            "\n",
            "X makes a move to square 5\n",
            "| O | X | O |\n",
            "| X | O | X |\n",
            "|   |   | X |\n",
            "\n",
            "O makes a move to square 6\n",
            "| O | X | O |\n",
            "| X | O | X |\n",
            "| O |   | X |\n",
            "\n",
            "O wins!\n"
          ],
          "name": "stdout"
        },
        {
          "output_type": "execute_result",
          "data": {
            "application/vnd.google.colaboratory.intrinsic+json": {
              "type": "string"
            },
            "text/plain": [
              "'O'"
            ]
          },
          "metadata": {},
          "execution_count": 8
        }
      ]
    }
  ]
}